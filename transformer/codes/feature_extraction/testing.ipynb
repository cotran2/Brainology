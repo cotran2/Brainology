{
 "cells": [
  {
   "cell_type": "code",
   "execution_count": 1,
   "metadata": {},
   "outputs": [],
   "source": [
    "import numpy as np\n",
    "import python_speech_features\n",
    "import scipy.io.wavfile as wav\n",
    "\n",
    "\n",
    "class FeaturesExtractor:\n",
    "\n",
    "    def __init__(self, **kwargs):\n",
    "        if 'winfunc' in kwargs and kwargs['winfunc'] == 'hamming':\n",
    "            kwargs['winfunc'] = np.hamming\n",
    "        self.params = kwargs\n",
    "\n",
    "    def get_features(self, files: list) -> np.ndarray:\n",
    "        \"\"\" Extract MFCC features from the files list. \"\"\"\n",
    "        mfccs = [self.make_features(file, **self.params) for file in files]\n",
    "        X = self.align(mfccs)\n",
    "        return X\n",
    "\n",
    "    @staticmethod\n",
    "    def make_features(file_path: str, **kwargs) -> np.ndarray:\n",
    "        \"\"\" Use `python_speech_features` lib to extract MFCC features from the audio file. \"\"\"\n",
    "        fs, audio = wav.read(file_path)\n",
    "        feat, energy = python_speech_features.fbank(audio, samplerate=fs, **kwargs)\n",
    "        features = np.log(feat)\n",
    "        return features\n",
    "\n",
    "    @staticmethod\n",
    "    def align(arrays: list, default=0) -> np.ndarray:\n",
    "        \"\"\" Pad arrays along time dimensions. Return the single array (batch_size, time, features). \"\"\"\n",
    "        max_array = max(arrays, key=len)\n",
    "        X = np.full(shape=[len(arrays), *max_array.shape], fill_value=default, dtype=np.float64)\n",
    "        for index, array in enumerate(arrays):\n",
    "            time_dim, features_dim = array.shape\n",
    "            X[index, :time_dim] = array\n",
    "        return X\n"
   ]
  },
  {
   "cell_type": "code",
   "execution_count": 5,
   "metadata": {},
   "outputs": [],
   "source": [
    "file_path = \"/home/gautam-admin/EEG/deepspeech_from_brain/data/wav/austin1.wav\"\n",
    "fs, audio = wav.read(file_path)\n",
    "feat, energy = python_speech_features.fbank(audio, samplerate=fs)\n",
    "features = np.log(feat)"
   ]
  },
  {
   "cell_type": "code",
   "execution_count": 7,
   "metadata": {},
   "outputs": [
    {
     "data": {
      "text/plain": [
       "(25697, 26)"
      ]
     },
     "execution_count": 7,
     "metadata": {},
     "output_type": "execute_result"
    }
   ],
   "source": [
    "features.shape"
   ]
  },
  {
   "cell_type": "code",
   "execution_count": 9,
   "metadata": {},
   "outputs": [
    {
     "data": {
      "text/plain": [
       "256.9813125"
      ]
     },
     "execution_count": 9,
     "metadata": {},
     "output_type": "execute_result"
    }
   ],
   "source": [
    "len(audio)/fs"
   ]
  },
  {
   "cell_type": "code",
   "execution_count": 10,
   "metadata": {},
   "outputs": [
    {
     "ename": "ModuleNotFoundError",
     "evalue": "No module named 'deepspeech'",
     "output_type": "error",
     "traceback": [
      "\u001b[0;31m---------------------------------------------------------------------------\u001b[0m",
      "\u001b[0;31mModuleNotFoundError\u001b[0m                       Traceback (most recent call last)",
      "\u001b[0;32m<ipython-input-10-dec73e25e995>\u001b[0m in \u001b[0;36m<module>\u001b[0;34m\u001b[0m\n\u001b[0;32m----> 1\u001b[0;31m \u001b[0;32mfrom\u001b[0m \u001b[0mdeepspeech\u001b[0m \u001b[0;32mimport\u001b[0m \u001b[0mload\u001b[0m\u001b[0;34m\u001b[0m\u001b[0;34m\u001b[0m\u001b[0m\n\u001b[0m\u001b[1;32m      2\u001b[0m \u001b[0;34m\u001b[0m\u001b[0m\n\u001b[1;32m      3\u001b[0m \u001b[0mdeepspeech\u001b[0m \u001b[0;34m=\u001b[0m \u001b[0mload\u001b[0m\u001b[0;34m(\u001b[0m\u001b[0;34m'pl'\u001b[0m\u001b[0;34m)\u001b[0m             \u001b[0;31m# Also can be: load(dir='model_dir')\u001b[0m\u001b[0;34m\u001b[0m\u001b[0;34m\u001b[0m\u001b[0m\n\u001b[1;32m      4\u001b[0m \u001b[0mfiles\u001b[0m \u001b[0;34m=\u001b[0m \u001b[0;34m[\u001b[0m\u001b[0;34m'to/test/sample.wav'\u001b[0m\u001b[0;34m]\u001b[0m\u001b[0;34m\u001b[0m\u001b[0;34m\u001b[0m\u001b[0m\n\u001b[1;32m      5\u001b[0m \u001b[0;34m\u001b[0m\u001b[0m\n",
      "\u001b[0;31mModuleNotFoundError\u001b[0m: No module named 'deepspeech'"
     ]
    }
   ],
   "source": [
    "from deepspeech import load\n",
    "\n",
    "deepspeech = load('pl')             # Also can be: load(dir='model_dir')\n",
    "files = ['to/test/sample.wav']\n",
    "\n",
    "X = deepspeech.get_features(files)\n",
    "y_hat = deepspeech.predict(X)\n",
    "sentences = deepspeech.decode(y_hat)"
   ]
  },
  {
   "cell_type": "code",
   "execution_count": null,
   "metadata": {},
   "outputs": [],
   "source": []
  }
 ],
 "metadata": {
  "kernelspec": {
   "display_name": "Python 3",
   "language": "python",
   "name": "python3"
  },
  "language_info": {
   "codemirror_mode": {
    "name": "ipython",
    "version": 3
   },
   "file_extension": ".py",
   "mimetype": "text/x-python",
   "name": "python",
   "nbconvert_exporter": "python",
   "pygments_lexer": "ipython3",
   "version": "3.7.4"
  }
 },
 "nbformat": 4,
 "nbformat_minor": 2
}
