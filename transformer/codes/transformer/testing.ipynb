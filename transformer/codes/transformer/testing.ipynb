{
 "cells": [
  {
   "cell_type": "code",
   "execution_count": 1,
   "metadata": {},
   "outputs": [],
   "source": [
    "from utils import *\n",
    "import tensorflow as tf"
   ]
  },
  {
   "cell_type": "code",
   "execution_count": 2,
   "metadata": {},
   "outputs": [],
   "source": [
    "class parameters():\n",
    "    number_sentence = 3\n",
    "    num_layers = 4\n",
    "    d_model = 90\n",
    "    dff = 512\n",
    "    num_heads = 8\n",
    "    input_vocab_size = 0\n",
    "    target_vocab_size = 0\n",
    "    dropout_rate = 0.1\n",
    "    freq = 100\n",
    "    feature = 1\n",
    "    data = 'eeg'"
   ]
  },
  {
   "cell_type": "code",
   "execution_count": 8,
   "metadata": {},
   "outputs": [],
   "source": [
    "params = parameters()\n",
    "input_set, target_set, seq_len_set, original_set = load_data(params)\n",
    "input_set,_ = pad_sequences(input_set,dtype = np.float32)\n",
    "target_set,_ = pad_sequences(target_set,dtype = np.int64)\n",
    "params.d_model = input_set.shape[-1]\n",
    "params.target_vocab_size = len(params.dictionary)"
   ]
  },
  {
   "cell_type": "code",
   "execution_count": 4,
   "metadata": {
    "collapsed": true
   },
   "outputs": [
    {
     "data": {
      "text/plain": [
       "[' this was easy for us',\n",
       " ' jane may earn more money by working hard',\n",
       " ' she is thinner than i am',\n",
       " ' this was easy for us',\n",
       " ' jane may earn more money by working hard',\n",
       " ' she is thinner than i am',\n",
       " ' this was easy for us',\n",
       " ' jane may earn more money by working hard',\n",
       " ' she is thinner than i am',\n",
       " ' this was easy for us',\n",
       " ' jane may earn more money by working hard',\n",
       " ' she is thinner than i am',\n",
       " ' this was easy for us',\n",
       " ' jane may earn more money by working hard',\n",
       " ' she is thinner than i am',\n",
       " ' this was easy for us',\n",
       " ' jane may earn more money by working hard',\n",
       " ' she is thinner than i am',\n",
       " ' this was easy for us',\n",
       " ' jane may earn more money by working hard',\n",
       " ' she is thinner than i am',\n",
       " ' this was easy for us',\n",
       " ' jane may earn more money by working hard',\n",
       " ' she is thinner than i am',\n",
       " ' this was easy for us',\n",
       " ' jane may earn more money by working hard',\n",
       " ' she is thinner than i am',\n",
       " ' this was easy for us',\n",
       " ' jane may earn more money by working hard',\n",
       " ' she is thinner than i am',\n",
       " ' this was easy for us',\n",
       " ' jane may earn more money by working hard',\n",
       " ' she is thinner than i am',\n",
       " ' this was easy for us',\n",
       " ' jane may earn more money by working hard',\n",
       " ' she is thinner than i am',\n",
       " ' this was easy for us',\n",
       " ' jane may earn more money by working hard',\n",
       " ' she is thinner than i am',\n",
       " ' this was easy for us',\n",
       " ' jane may earn more money by working hard',\n",
       " ' she is thinner than i am',\n",
       " ' this was easy for us',\n",
       " ' jane may earn more money by working hard',\n",
       " ' she is thinner than i am',\n",
       " ' this was easy for us',\n",
       " ' jane may earn more money by working hard',\n",
       " ' she is thinner than i am',\n",
       " ' this was easy for us',\n",
       " ' jane may earn more money by working hard',\n",
       " ' she is thinner than i am',\n",
       " ' this was easy for us',\n",
       " ' jane may earn more money by working hard',\n",
       " ' she is thinner than i am',\n",
       " ' this was easy for us',\n",
       " ' jane may earn more money by working hard',\n",
       " ' she is thinner than i am',\n",
       " ' this was easy for us',\n",
       " ' jane may earn more money by working hard',\n",
       " ' she is thinner than i am',\n",
       " ' this was easy for us',\n",
       " ' jane may earn more money by working hard',\n",
       " ' she is thinner than i am',\n",
       " ' this was easy for us',\n",
       " ' jane may earn more money by working hard',\n",
       " ' she is thinner than i am',\n",
       " ' this was easy for us',\n",
       " ' jane may earn more money by working hard',\n",
       " ' she is thinner than i am',\n",
       " ' this was easy for us',\n",
       " ' jane may earn more money by working hard',\n",
       " ' she is thinner than i am',\n",
       " ' this was easy for us',\n",
       " ' jane may earn more money by working hard',\n",
       " ' she is thinner than i am',\n",
       " ' this was easy for us',\n",
       " ' jane may earn more money by working hard',\n",
       " ' she is thinner than i am',\n",
       " ' this was easy for us',\n",
       " ' jane may earn more money by working hard',\n",
       " ' she is thinner than i am',\n",
       " ' this was easy for us',\n",
       " ' jane may earn more money by working hard',\n",
       " ' she is thinner than i am',\n",
       " ' this was easy for us',\n",
       " ' jane may earn more money by working hard',\n",
       " ' she is thinner than i am',\n",
       " ' this was easy for us',\n",
       " ' jane may earn more money by working hard',\n",
       " ' she is thinner than i am']"
      ]
     },
     "execution_count": 4,
     "metadata": {},
     "output_type": "execute_result"
    }
   ],
   "source": [
    "sample_transformer = Transformer(\n",
    "        num_layers=2, d_model=512, num_heads=8, dff=2048,\n",
    "        input_vocab_size=8500, target_vocab_size=8000,\n",
    "        pe_input=10000, pe_target=6000)"
   ]
  },
  {
   "cell_type": "code",
   "execution_count": 13,
   "metadata": {},
   "outputs": [
    {
     "data": {
      "text/plain": [
       "21"
      ]
     },
     "execution_count": 13,
     "metadata": {},
     "output_type": "execute_result"
    }
   ],
   "source": [
    "len(params.dictionary)"
   ]
  },
  {
   "cell_type": "code",
   "execution_count": null,
   "metadata": {},
   "outputs": [],
   "source": []
  }
 ],
 "metadata": {
  "kernelspec": {
   "display_name": "Python 3",
   "language": "python",
   "name": "python3"
  },
  "language_info": {
   "codemirror_mode": {
    "name": "ipython",
    "version": 3
   },
   "file_extension": ".py",
   "mimetype": "text/x-python",
   "name": "python",
   "nbconvert_exporter": "python",
   "pygments_lexer": "ipython3",
   "version": "3.7.4"
  }
 },
 "nbformat": 4,
 "nbformat_minor": 2
}
